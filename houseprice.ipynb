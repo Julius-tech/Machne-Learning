{
 "cells": [
  {
   "cell_type": "code",
   "execution_count": 1,
   "metadata": {},
   "outputs": [],
   "source": [
    "#!kaggle competitions download -c house-prices-advanced-regression-techniques"
   ]
  },
  {
   "cell_type": "code",
   "execution_count": 2,
   "metadata": {},
   "outputs": [],
   "source": [
    "# import zipfile\n",
    "# with zipfile.ZipFile(\"house-prices-advanced-regression-techniques.zip\", \"r\") as zip_ref:\n",
    "#     zip_ref.extractall(\"house\")"
   ]
  },
  {
   "cell_type": "code",
   "execution_count": 63,
   "metadata": {},
   "outputs": [
    {
     "data": {
      "text/html": [
       "        <script type=\"text/javascript\">\n",
       "        window.PlotlyConfig = {MathJaxConfig: 'local'};\n",
       "        if (window.MathJax) {MathJax.Hub.Config({SVG: {font: \"STIX-Web\"}});}\n",
       "        if (typeof require !== 'undefined') {\n",
       "        require.undef(\"plotly\");\n",
       "        requirejs.config({\n",
       "            paths: {\n",
       "                'plotly': ['https://cdn.plot.ly/plotly-latest.min']\n",
       "            }\n",
       "        });\n",
       "        require(['plotly'], function(Plotly) {\n",
       "            window._Plotly = Plotly;\n",
       "        });\n",
       "        }\n",
       "        </script>\n",
       "        "
      ]
     },
     "metadata": {},
     "output_type": "display_data"
    }
   ],
   "source": [
    "import pandas as pd\n",
    "import numpy as np\n",
    "import matplotlib.pyplot as plt\n",
    "import seaborn as sns\n",
    "import ipywidgets as widgets\n",
    "from ipywidgets import interact,fixed\n",
    "import cufflinks as cf\n",
    "import plotly.offline\n",
    "from sklearn.linear_model import LinearRegression\n",
    "from sklearn.preprocessing import PolynomialFeatures\n",
    "from sklearn.pipeline import make_pipeline\n",
    "\n",
    "np.warnings.filterwarnings('ignore')\n",
    "cf.go_offline()\n",
    "cf.set_config_file(offline=False,world_readable=True)"
   ]
  },
  {
   "cell_type": "markdown",
   "metadata": {},
   "source": [
    "### 1. Import the data files"
   ]
  },
  {
   "cell_type": "code",
   "execution_count": 4,
   "metadata": {},
   "outputs": [],
   "source": [
    "train = pd.read_csv(\"house\\\\train.csv\")\n",
    "test = pd.read_csv(\"house\\\\test.csv\")"
   ]
  },
  {
   "cell_type": "markdown",
   "metadata": {},
   "source": [
    "### 2. Exploratory Data Analysis"
   ]
  },
  {
   "cell_type": "code",
   "execution_count": 5,
   "metadata": {},
   "outputs": [
    {
     "data": {
      "application/vnd.jupyter.widget-view+json": {
       "model_id": "66772ee1c0504b45a66e805b283b37bf",
       "version_major": 2,
       "version_minor": 0
      },
      "text/plain": [
       "interactive(children=(Dropdown(description='x', options=('MSSubClass', 'LotFrontage', 'LotArea', 'OverallQual'…"
      ]
     },
     "metadata": {},
     "output_type": "display_data"
    }
   ],
   "source": [
    "integer_columns = train.columns[train.dtypes != object]\n",
    "@interact\n",
    "def scatter_plot(x =integer_columns[1:-1], \n",
    "                 y =fixed(integer_columns[-1]), \n",
    "                 theme = list(cf.themes.THEMES.keys()),\n",
    "                colorscale = list(cf.colors._scales_names.keys()), \n",
    "                 x_axis=widgets.IntSlider(min=500,max=700),\n",
    "                y_axis=widgets.IntSlider(min=400,max=500)):\n",
    "    train.iplot(kind='scatter', x=x, y=y, mode='markers',\n",
    "                   xTitle=x.title(), yTitle=y.title(), dimensions =(x_axis,y_axis),\n",
    "                   title = f'{y.title()} vs {x.title()} {round(train[x].corr(train[y]),4)}',\n",
    "                    theme=theme, colorscale=colorscale)"
   ]
  },
  {
   "cell_type": "code",
   "execution_count": 6,
   "metadata": {},
   "outputs": [
    {
     "data": {
      "application/vnd.jupyter.widget-view+json": {
       "model_id": "abadba4a96344d00a47eda8308251c34",
       "version_major": 2,
       "version_minor": 0
      },
      "text/plain": [
       "interactive(children=(Dropdown(description='x', options=('MSZoning', 'Street', 'Alley', 'LotShape', 'LandConto…"
      ]
     },
     "metadata": {},
     "output_type": "display_data"
    }
   ],
   "source": [
    "categorical_columns = train.columns[train.dtypes == object]\n",
    "@interact\n",
    "def scatter_plot(x =categorical_columns[:-1], y =fixed('SalePrice'),\n",
    "                 theme = list(cf.themes.THEMES.keys()),\n",
    "                colorscale = list(cf.colors._scales_names.keys()),\n",
    "                 x_axis=widgets.IntSlider(min=500,max=700),\n",
    "                y_axis=widgets.IntSlider(min=400,max=500)):\n",
    "    train.iplot(kind='bar', x=x,y=y,bargap =.1, dimensions =(x_axis,y_axis),\n",
    "                xTitle=x.title(), yTitle=y.title(),\n",
    "                title = f'{x.title()}', theme=theme, colorscale=colorscale)\n",
    "    print(train[x].value_counts())"
   ]
  },
  {
   "cell_type": "markdown",
   "metadata": {},
   "source": [
    "### 3. Handle Missing data"
   ]
  },
  {
   "cell_type": "code",
   "execution_count": 7,
   "metadata": {},
   "outputs": [
    {
     "data": {
      "application/vnd.jupyter.widget-view+json": {
       "model_id": "a2e49d1baf8143a2a7b2fb12d8a266dc",
       "version_major": 2,
       "version_minor": 0
      },
      "text/plain": [
       "interactive(children=(Dropdown(description='column', options=('LotFrontage', 'Alley', 'MasVnrType', 'MasVnrAre…"
      ]
     },
     "metadata": {},
     "output_type": "display_data"
    }
   ],
   "source": [
    "col_with_NA = train.columns[train.isnull().sum() > 0]\n",
    "@interact\n",
    "def explore_data(column = col_with_NA):\n",
    "    num_of_NA = train[column].isnull().sum()\n",
    "    perc_of_NA = round(100*num_of_NA/train.shape[0], 2)\n",
    "    print (\"Number of NA's {}\".format(num_of_NA), \n",
    "           \": Percentage of NA's {}%\".format(perc_of_NA))"
   ]
  },
  {
   "cell_type": "code",
   "execution_count": 8,
   "metadata": {},
   "outputs": [],
   "source": [
    "train_len = train.shape[0]\n",
    "test_len = test.shape[0]\n",
    "target = train['SalePrice']\n",
    "full_data = pd.concat((train, test), sort=False).reset_index(drop=True)\n",
    "full_data.drop(['SalePrice'], axis=1, inplace=True)\n",
    "full_data.drop(['Id'], axis=1, inplace=True)"
   ]
  },
  {
   "cell_type": "code",
   "execution_count": 9,
   "metadata": {},
   "outputs": [],
   "source": [
    "full_data['LotFrontage'] = full_data.LotFrontage.fillna(full_data.LotFrontage.median())\n",
    "full_data['GarageYrBlt'] = full_data.GarageYrBlt.fillna(9999)\n",
    "full_data['MasVnrArea'] = full_data.MasVnrArea.fillna(0)\n",
    "full_data['Electrical'] = full_data.Electrical.fillna(method='ffill')"
   ]
  },
  {
   "cell_type": "code",
   "execution_count": 10,
   "metadata": {},
   "outputs": [],
   "source": [
    "for col in full_data.columns:\n",
    "    if full_data[col].dtype == \"object\":\n",
    "        full_data[col] = full_data[col].fillna(\"None\")"
   ]
  },
  {
   "cell_type": "code",
   "execution_count": 11,
   "metadata": {},
   "outputs": [
    {
     "data": {
      "text/plain": [
       "10"
      ]
     },
     "execution_count": 11,
     "metadata": {},
     "output_type": "execute_result"
    }
   ],
   "source": [
    "full_data.isnull().sum().sum()"
   ]
  },
  {
   "cell_type": "code",
   "execution_count": 12,
   "metadata": {},
   "outputs": [],
   "source": [
    "for col in full_data.columns:\n",
    "    if full_data[col].dtype != \"object\":\n",
    "        full_data[col] = full_data[col].fillna(0)"
   ]
  },
  {
   "cell_type": "code",
   "execution_count": 13,
   "metadata": {},
   "outputs": [
    {
     "data": {
      "text/plain": [
       "0"
      ]
     },
     "execution_count": 13,
     "metadata": {},
     "output_type": "execute_result"
    }
   ],
   "source": [
    "full_data.isnull().sum().sum()"
   ]
  },
  {
   "cell_type": "markdown",
   "metadata": {},
   "source": [
    "### 4. Feature Engineering"
   ]
  },
  {
   "cell_type": "code",
   "execution_count": 14,
   "metadata": {},
   "outputs": [],
   "source": [
    "full_data['MoSold'] = full_data['MoSold'].astype(str)\n",
    "full_data['MSSubClass'] = full_data['MSSubClass'].apply(str)"
   ]
  },
  {
   "cell_type": "code",
   "execution_count": 15,
   "metadata": {},
   "outputs": [],
   "source": [
    "full_data = pd.get_dummies(full_data)"
   ]
  },
  {
   "cell_type": "code",
   "execution_count": 16,
   "metadata": {},
   "outputs": [],
   "source": [
    "train = full_data[:train_len]\n",
    "test = full_data[test_len:]"
   ]
  },
  {
   "cell_type": "markdown",
   "metadata": {},
   "source": [
    "### 5. Outlier Detection & Correction"
   ]
  },
  {
   "cell_type": "code",
   "execution_count": 17,
   "metadata": {},
   "outputs": [],
   "source": [
    "# from scipy import stats\n",
    "# def detectOutlier(data):\n",
    "#     z = np.abs(stats.zscore(data))\n",
    "#     return z"
   ]
  },
  {
   "cell_type": "code",
   "execution_count": 18,
   "metadata": {},
   "outputs": [],
   "source": [
    "# train['SalePrice'] = target\n",
    "# train = train[(detectOutlier(train) < 3).all(axis=1)]\n",
    "# detectOutlier(train)"
   ]
  },
  {
   "cell_type": "code",
   "execution_count": 19,
   "metadata": {},
   "outputs": [],
   "source": [
    "# test = test[(detectOutlier(test) < 3).all(axis=1)]\n",
    "# detectOutlier(test)"
   ]
  },
  {
   "cell_type": "code",
   "execution_count": 20,
   "metadata": {},
   "outputs": [],
   "source": [
    "# target = train['SalePrice']\n",
    "# train.drop(['SalePrice'], axis=1, inplace=True)"
   ]
  },
  {
   "cell_type": "markdown",
   "metadata": {},
   "source": [
    "### 6. Cross validation"
   ]
  },
  {
   "cell_type": "code",
   "execution_count": 21,
   "metadata": {},
   "outputs": [],
   "source": [
    "from sklearn.model_selection import cross_validate"
   ]
  },
  {
   "cell_type": "code",
   "execution_count": 23,
   "metadata": {},
   "outputs": [],
   "source": [
    "def val_error(cv):\n",
    "    return -cv['test_score'].mean()"
   ]
  },
  {
   "cell_type": "code",
   "execution_count": 24,
   "metadata": {},
   "outputs": [],
   "source": [
    "def poly_model(degree):\n",
    "    return make_pipeline(\n",
    "        PolynomialFeatures(degree=degree, include_bias=False),\n",
    "        LinearRegression(fit_intercept=True),\n",
    "    )"
   ]
  },
  {
   "cell_type": "code",
   "execution_count": 43,
   "metadata": {},
   "outputs": [],
   "source": [
    "def cv(model):\n",
    "    return cross_validate(model, train, target, scoring='neg_mean_squared_error', cv=5, return_train_score=True)\n"
   ]
  },
  {
   "cell_type": "code",
   "execution_count": 68,
   "metadata": {},
   "outputs": [],
   "source": [
    "models = pd.DataFrame({\n",
    "    'name': ['Linear', 'Quadratic',],\n",
    "    'model': [poly_model(1), poly_model(2),],\n",
    "})"
   ]
  },
  {
   "cell_type": "code",
   "execution_count": 73,
   "metadata": {},
   "outputs": [
    {
     "data": {
      "text/html": [
       "<div>\n",
       "<style scoped>\n",
       "    .dataframe tbody tr th:only-of-type {\n",
       "        vertical-align: middle;\n",
       "    }\n",
       "\n",
       "    .dataframe tbody tr th {\n",
       "        vertical-align: top;\n",
       "    }\n",
       "\n",
       "    .dataframe thead th {\n",
       "        text-align: right;\n",
       "    }\n",
       "</style>\n",
       "<table border=\"1\" class=\"dataframe\">\n",
       "  <thead>\n",
       "    <tr style=\"text-align: right;\">\n",
       "      <th></th>\n",
       "      <th>name</th>\n",
       "      <th>model</th>\n",
       "      <th>cv</th>\n",
       "      <th>val_error</th>\n",
       "    </tr>\n",
       "  </thead>\n",
       "  <tbody>\n",
       "    <tr>\n",
       "      <th>0</th>\n",
       "      <td>Linear</td>\n",
       "      <td>(PolynomialFeatures(degree=1, include_bias=Fal...</td>\n",
       "      <td>{'fit_time': [0.16899442672729492, 0.163000822...</td>\n",
       "      <td>1.333728e+09</td>\n",
       "    </tr>\n",
       "    <tr>\n",
       "      <th>1</th>\n",
       "      <td>Quadratic</td>\n",
       "      <td>(PolynomialFeatures(include_bias=False), Linea...</td>\n",
       "      <td>{'fit_time': [42.927998542785645, 44.498000860...</td>\n",
       "      <td>3.607738e+10</td>\n",
       "    </tr>\n",
       "  </tbody>\n",
       "</table>\n",
       "</div>"
      ],
      "text/plain": [
       "        name                                              model  \\\n",
       "0     Linear  (PolynomialFeatures(degree=1, include_bias=Fal...   \n",
       "1  Quadratic  (PolynomialFeatures(include_bias=False), Linea...   \n",
       "\n",
       "                                                  cv     val_error  \n",
       "0  {'fit_time': [0.16899442672729492, 0.163000822...  1.333728e+09  \n",
       "1  {'fit_time': [42.927998542785645, 44.498000860...  3.607738e+10  "
      ]
     },
     "execution_count": 73,
     "metadata": {},
     "output_type": "execute_result"
    }
   ],
   "source": [
    "models['cv'] = models['model'].apply(cv)\n",
    "models['val_error'] = models['cv'].apply(val_error)"
   ]
  },
  {
   "cell_type": "code",
   "execution_count": 74,
   "metadata": {},
   "outputs": [
    {
     "data": {
      "text/html": [
       "<div>\n",
       "<style scoped>\n",
       "    .dataframe tbody tr th:only-of-type {\n",
       "        vertical-align: middle;\n",
       "    }\n",
       "\n",
       "    .dataframe tbody tr th {\n",
       "        vertical-align: top;\n",
       "    }\n",
       "\n",
       "    .dataframe thead th {\n",
       "        text-align: right;\n",
       "    }\n",
       "</style>\n",
       "<table border=\"1\" class=\"dataframe\">\n",
       "  <thead>\n",
       "    <tr style=\"text-align: right;\">\n",
       "      <th></th>\n",
       "      <th>name</th>\n",
       "      <th>model</th>\n",
       "      <th>cv</th>\n",
       "      <th>val_error</th>\n",
       "    </tr>\n",
       "  </thead>\n",
       "  <tbody>\n",
       "    <tr>\n",
       "      <th>0</th>\n",
       "      <td>Linear</td>\n",
       "      <td>(PolynomialFeatures(degree=1, include_bias=Fal...</td>\n",
       "      <td>{'fit_time': [0.16899442672729492, 0.163000822...</td>\n",
       "      <td>1.333728e+09</td>\n",
       "    </tr>\n",
       "    <tr>\n",
       "      <th>1</th>\n",
       "      <td>Quadratic</td>\n",
       "      <td>(PolynomialFeatures(include_bias=False), Linea...</td>\n",
       "      <td>{'fit_time': [42.927998542785645, 44.498000860...</td>\n",
       "      <td>3.607738e+10</td>\n",
       "    </tr>\n",
       "  </tbody>\n",
       "</table>\n",
       "</div>"
      ],
      "text/plain": [
       "        name                                              model  \\\n",
       "0     Linear  (PolynomialFeatures(degree=1, include_bias=Fal...   \n",
       "1  Quadratic  (PolynomialFeatures(include_bias=False), Linea...   \n",
       "\n",
       "                                                  cv     val_error  \n",
       "0  {'fit_time': [0.16899442672729492, 0.163000822...  1.333728e+09  \n",
       "1  {'fit_time': [42.927998542785645, 44.498000860...  3.607738e+10  "
      ]
     },
     "execution_count": 74,
     "metadata": {},
     "output_type": "execute_result"
    }
   ],
   "source": [
    "models"
   ]
  },
  {
   "cell_type": "code",
   "execution_count": 80,
   "metadata": {},
   "outputs": [],
   "source": [
    "def get_train_errs(models):\n",
    "    return models['cv'].apply(lambda cv: -cv['train_score'])\n",
    "\n",
    "def get_valid_errs(models):\n",
    "    return models['cv'].apply(lambda cv: np.log(-cv['test_score']))\n",
    "\n",
    "def make_errors(models, errs):\n",
    "    return (pd.DataFrame.from_dict(dict(zip(errs.index, errs.values)))\n",
    "            .melt(var_name='index', value_name='mse')\n",
    "            .merge(models[['name']], left_on='index', right_index=True))\n",
    "\n",
    "def plot_errors(errors, log=False, err_type='Training'):\n",
    "    plt.figure(figsize=(8, 4))\n",
    "    sns.pointplot('name', 'mse', ci='sd', data=errors)\n",
    "    plt.xlabel('Model')\n",
    "    plt.ylabel('log(mse)' if log else 'mse')\n",
    "    plt.title(f'{err_type} Error')"
   ]
  },
  {
   "cell_type": "code",
   "execution_count": 81,
   "metadata": {},
   "outputs": [
    {
     "name": "stdout",
     "output_type": "stream",
     "text": [
      "   index           mse       name\n",
      "0      0  4.086376e+08     Linear\n",
      "1      0  3.486604e+08     Linear\n",
      "2      0  3.157902e+08     Linear\n",
      "3      0  4.089486e+08     Linear\n",
      "4      0  3.962601e+08     Linear\n",
      "5      1  9.151821e-11  Quadratic\n",
      "6      1  1.290834e-10  Quadratic\n",
      "7      1  2.087789e-09  Quadratic\n",
      "8      1  8.753398e-11  Quadratic\n",
      "9      1  1.090510e-11  Quadratic\n"
     ]
    }
   ],
   "source": [
    "errors = make_errors(models, get_train_errs(models))\n",
    "#plot_errors(errors, log=False, err_type='Training')\n",
    "print(errors)"
   ]
  },
  {
   "cell_type": "code",
   "execution_count": 82,
   "metadata": {},
   "outputs": [
    {
     "data": {
      "text/plain": [
       "(10, 3)"
      ]
     },
     "execution_count": 82,
     "metadata": {},
     "output_type": "execute_result"
    }
   ],
   "source": [
    "errors.shape"
   ]
  },
  {
   "cell_type": "code",
   "execution_count": 83,
   "metadata": {},
   "outputs": [
    {
     "data": {
      "image/png": "[encoded data removed]",
      "text/plain": [
       "<Figure size 576x288 with 1 Axes>"
      ]
     },
     "metadata": {
      "needs_background": "light"
     },
     "output_type": "display_data"
    }
   ],
   "source": [
    "errors = make_errors(models, get_valid_errs(models))\n",
    "plot_errors(errors, log=True, err_type='Valid')"
   ]
  },
  {
   "cell_type": "code",
   "execution_count": null,
   "metadata": {},
   "outputs": [],
   "source": []
  }
 ],
 "metadata": {
  "kernelspec": {
   "display_name": "supervisedenv",
   "language": "python",
   "name": "supervisedenv"
  },
  "language_info": {
   "codemirror_mode": {
    "name": "ipython",
    "version": 3
   },
   "file_extension": ".py",
   "mimetype": "text/x-python",
   "name": "python",
   "nbconvert_exporter": "python",
   "pygments_lexer": "ipython3",
   "version": "3.8.5"
  }
 },
 "nbformat": 4,
 "nbformat_minor": 4
}
